{
  "nbformat": 4,
  "nbformat_minor": 0,
  "metadata": {
    "colab": {
      "provenance": []
    },
    "kernelspec": {
      "name": "python3",
      "display_name": "Python 3"
    },
    "language_info": {
      "name": "python"
    }
  },
  "cells": [
    {
      "cell_type": "markdown",
      "source": [
        "PROJETO POWER BI DA PREFEITURA DE RECIFE\n",
        "\n"
      ],
      "metadata": {
        "id": "ACIycNssJdBD"
      }
    },
    {
      "cell_type": "code",
      "execution_count": 457,
      "metadata": {
        "id": "8c3Gy8LYJYto"
      },
      "outputs": [],
      "source": [
        "import numpy as np\n",
        "import pandas as pd\n",
        "from google.colab import files"
      ]
    },
    {
      "cell_type": "code",
      "source": [
        "dataSet = pd.read_csv('/content/situacaofinal2018.csv', sep=\";\")"
      ],
      "metadata": {
        "id": "R6PA_xTYJrVx"
      },
      "execution_count": 458,
      "outputs": []
    },
    {
      "cell_type": "markdown",
      "source": [
        "# **READ**"
      ],
      "metadata": {
        "id": "w3A4CwvFauqx"
      }
    },
    {
      "cell_type": "code",
      "source": [
        "dataSet.head(1-2)"
      ],
      "metadata": {
        "colab": {
          "base_uri": "https://localhost:8080/",
          "height": 617
        },
        "id": "jRXjxD68NAkO",
        "outputId": "2f86e2fb-2a46-46dc-9104-1a1d390231d1"
      },
      "execution_count": 459,
      "outputs": [
        {
          "output_type": "execute_result",
          "data": {
            "text/plain": [
              "        ano  codigo_escola          escola endereco_bairro  \\\n",
              "0      2018            146    ABILIO GOMES      BOA VIAGEM   \n",
              "1      2018            146    ABILIO GOMES      BOA VIAGEM   \n",
              "2      2018            146    ABILIO GOMES      BOA VIAGEM   \n",
              "3      2018            146    ABILIO GOMES      BOA VIAGEM   \n",
              "4      2018            146    ABILIO GOMES      BOA VIAGEM   \n",
              "...     ...            ...             ...             ...   \n",
              "96652  2018            133  27 DE NOVEMBRO           COHAB   \n",
              "96653  2018            133  27 DE NOVEMBRO           COHAB   \n",
              "96654  2018            133  27 DE NOVEMBRO           COHAB   \n",
              "96655  2018            133  27 DE NOVEMBRO           COHAB   \n",
              "96656  2018            133  27 DE NOVEMBRO           COHAB   \n",
              "\n",
              "      endereco_logradouro endereco_numero  rpa ano_ensino  \\\n",
              "0            BRUNO VELOZO             S/N    6    GRUPO V   \n",
              "1            BRUNO VELOZO             S/N    6    GRUPO V   \n",
              "2            BRUNO VELOZO             S/N    6    GRUPO V   \n",
              "3            BRUNO VELOZO             S/N    6    GRUPO V   \n",
              "4            BRUNO VELOZO             S/N    6    GRUPO V   \n",
              "...                   ...             ...  ...        ...   \n",
              "96652       DOZE DE JUNHO            1120    6     5º ANO   \n",
              "96653       DOZE DE JUNHO            1120    6     5º ANO   \n",
              "96654       DOZE DE JUNHO            1120    6     5º ANO   \n",
              "96655       DOZE DE JUNHO            1120    6     5º ANO   \n",
              "96656       DOZE DE JUNHO            1120    6     5º ANO   \n",
              "\n",
              "       modalidade_ensino_codigo serie_codigo   modalidade_ensino    serie  \\\n",
              "0                             0            5   EDUCACAO INFANTIL  GRUPO V   \n",
              "1                             0            5   EDUCACAO INFANTIL  GRUPO V   \n",
              "2                             0            5   EDUCACAO INFANTIL  GRUPO V   \n",
              "3                             0            5   EDUCACAO INFANTIL  GRUPO V   \n",
              "4                             0            5   EDUCACAO INFANTIL  GRUPO V   \n",
              "...                         ...          ...                 ...      ...   \n",
              "96652                         1            4  ENSINO FUNDAMENTAL   5º ANO   \n",
              "96653                         1            4  ENSINO FUNDAMENTAL   5º ANO   \n",
              "96654                         1            4  ENSINO FUNDAMENTAL   5º ANO   \n",
              "96655                         1            4  ENSINO FUNDAMENTAL   5º ANO   \n",
              "96656                         1            4  ENSINO FUNDAMENTAL   5º ANO   \n",
              "\n",
              "      turma  turno  matricula  sexo  idade situacao_codigo      situacao_nome  \n",
              "0         A  MANHÃ   17696089     2      6              AP           APROVADO  \n",
              "1         A  MANHÃ   16767969     1      6              AP           APROVADO  \n",
              "2         A  MANHÃ   17638470     2      6              AP           APROVADO  \n",
              "3         A  MANHÃ   17073731     1      6              AP           APROVADO  \n",
              "4         A  MANHÃ   17711606     2      6              AP           APROVADO  \n",
              "...     ...    ...        ...   ...    ...             ...                ...  \n",
              "96652     B  TARDE   12052191     2     12              AP           APROVADO  \n",
              "96653     B  TARDE   17713455     1     12              AP           APROVADO  \n",
              "96654     B  TARDE    7066520     2     14              TA  TR DUR ANO P/REDE  \n",
              "96655     B  TARDE   16087313     1     11              AP           APROVADO  \n",
              "96656     B  TARDE   12094870     1     11              AP           APROVADO  \n",
              "\n",
              "[96657 rows x 19 columns]"
            ],
            "text/html": [
              "\n",
              "  <div id=\"df-261ec864-1d89-4147-8a10-438d0e4e9b51\" class=\"colab-df-container\">\n",
              "    <div>\n",
              "<style scoped>\n",
              "    .dataframe tbody tr th:only-of-type {\n",
              "        vertical-align: middle;\n",
              "    }\n",
              "\n",
              "    .dataframe tbody tr th {\n",
              "        vertical-align: top;\n",
              "    }\n",
              "\n",
              "    .dataframe thead th {\n",
              "        text-align: right;\n",
              "    }\n",
              "</style>\n",
              "<table border=\"1\" class=\"dataframe\">\n",
              "  <thead>\n",
              "    <tr style=\"text-align: right;\">\n",
              "      <th></th>\n",
              "      <th>ano</th>\n",
              "      <th>codigo_escola</th>\n",
              "      <th>escola</th>\n",
              "      <th>endereco_bairro</th>\n",
              "      <th>endereco_logradouro</th>\n",
              "      <th>endereco_numero</th>\n",
              "      <th>rpa</th>\n",
              "      <th>ano_ensino</th>\n",
              "      <th>modalidade_ensino_codigo</th>\n",
              "      <th>serie_codigo</th>\n",
              "      <th>modalidade_ensino</th>\n",
              "      <th>serie</th>\n",
              "      <th>turma</th>\n",
              "      <th>turno</th>\n",
              "      <th>matricula</th>\n",
              "      <th>sexo</th>\n",
              "      <th>idade</th>\n",
              "      <th>situacao_codigo</th>\n",
              "      <th>situacao_nome</th>\n",
              "    </tr>\n",
              "  </thead>\n",
              "  <tbody>\n",
              "    <tr>\n",
              "      <th>0</th>\n",
              "      <td>2018</td>\n",
              "      <td>146</td>\n",
              "      <td>ABILIO GOMES</td>\n",
              "      <td>BOA VIAGEM</td>\n",
              "      <td>BRUNO VELOZO</td>\n",
              "      <td>S/N</td>\n",
              "      <td>6</td>\n",
              "      <td>GRUPO V</td>\n",
              "      <td>0</td>\n",
              "      <td>5</td>\n",
              "      <td>EDUCACAO INFANTIL</td>\n",
              "      <td>GRUPO V</td>\n",
              "      <td>A</td>\n",
              "      <td>MANHÃ</td>\n",
              "      <td>17696089</td>\n",
              "      <td>2</td>\n",
              "      <td>6</td>\n",
              "      <td>AP</td>\n",
              "      <td>APROVADO</td>\n",
              "    </tr>\n",
              "    <tr>\n",
              "      <th>1</th>\n",
              "      <td>2018</td>\n",
              "      <td>146</td>\n",
              "      <td>ABILIO GOMES</td>\n",
              "      <td>BOA VIAGEM</td>\n",
              "      <td>BRUNO VELOZO</td>\n",
              "      <td>S/N</td>\n",
              "      <td>6</td>\n",
              "      <td>GRUPO V</td>\n",
              "      <td>0</td>\n",
              "      <td>5</td>\n",
              "      <td>EDUCACAO INFANTIL</td>\n",
              "      <td>GRUPO V</td>\n",
              "      <td>A</td>\n",
              "      <td>MANHÃ</td>\n",
              "      <td>16767969</td>\n",
              "      <td>1</td>\n",
              "      <td>6</td>\n",
              "      <td>AP</td>\n",
              "      <td>APROVADO</td>\n",
              "    </tr>\n",
              "    <tr>\n",
              "      <th>2</th>\n",
              "      <td>2018</td>\n",
              "      <td>146</td>\n",
              "      <td>ABILIO GOMES</td>\n",
              "      <td>BOA VIAGEM</td>\n",
              "      <td>BRUNO VELOZO</td>\n",
              "      <td>S/N</td>\n",
              "      <td>6</td>\n",
              "      <td>GRUPO V</td>\n",
              "      <td>0</td>\n",
              "      <td>5</td>\n",
              "      <td>EDUCACAO INFANTIL</td>\n",
              "      <td>GRUPO V</td>\n",
              "      <td>A</td>\n",
              "      <td>MANHÃ</td>\n",
              "      <td>17638470</td>\n",
              "      <td>2</td>\n",
              "      <td>6</td>\n",
              "      <td>AP</td>\n",
              "      <td>APROVADO</td>\n",
              "    </tr>\n",
              "    <tr>\n",
              "      <th>3</th>\n",
              "      <td>2018</td>\n",
              "      <td>146</td>\n",
              "      <td>ABILIO GOMES</td>\n",
              "      <td>BOA VIAGEM</td>\n",
              "      <td>BRUNO VELOZO</td>\n",
              "      <td>S/N</td>\n",
              "      <td>6</td>\n",
              "      <td>GRUPO V</td>\n",
              "      <td>0</td>\n",
              "      <td>5</td>\n",
              "      <td>EDUCACAO INFANTIL</td>\n",
              "      <td>GRUPO V</td>\n",
              "      <td>A</td>\n",
              "      <td>MANHÃ</td>\n",
              "      <td>17073731</td>\n",
              "      <td>1</td>\n",
              "      <td>6</td>\n",
              "      <td>AP</td>\n",
              "      <td>APROVADO</td>\n",
              "    </tr>\n",
              "    <tr>\n",
              "      <th>4</th>\n",
              "      <td>2018</td>\n",
              "      <td>146</td>\n",
              "      <td>ABILIO GOMES</td>\n",
              "      <td>BOA VIAGEM</td>\n",
              "      <td>BRUNO VELOZO</td>\n",
              "      <td>S/N</td>\n",
              "      <td>6</td>\n",
              "      <td>GRUPO V</td>\n",
              "      <td>0</td>\n",
              "      <td>5</td>\n",
              "      <td>EDUCACAO INFANTIL</td>\n",
              "      <td>GRUPO V</td>\n",
              "      <td>A</td>\n",
              "      <td>MANHÃ</td>\n",
              "      <td>17711606</td>\n",
              "      <td>2</td>\n",
              "      <td>6</td>\n",
              "      <td>AP</td>\n",
              "      <td>APROVADO</td>\n",
              "    </tr>\n",
              "    <tr>\n",
              "      <th>...</th>\n",
              "      <td>...</td>\n",
              "      <td>...</td>\n",
              "      <td>...</td>\n",
              "      <td>...</td>\n",
              "      <td>...</td>\n",
              "      <td>...</td>\n",
              "      <td>...</td>\n",
              "      <td>...</td>\n",
              "      <td>...</td>\n",
              "      <td>...</td>\n",
              "      <td>...</td>\n",
              "      <td>...</td>\n",
              "      <td>...</td>\n",
              "      <td>...</td>\n",
              "      <td>...</td>\n",
              "      <td>...</td>\n",
              "      <td>...</td>\n",
              "      <td>...</td>\n",
              "      <td>...</td>\n",
              "    </tr>\n",
              "    <tr>\n",
              "      <th>96652</th>\n",
              "      <td>2018</td>\n",
              "      <td>133</td>\n",
              "      <td>27 DE NOVEMBRO</td>\n",
              "      <td>COHAB</td>\n",
              "      <td>DOZE DE JUNHO</td>\n",
              "      <td>1120</td>\n",
              "      <td>6</td>\n",
              "      <td>5º ANO</td>\n",
              "      <td>1</td>\n",
              "      <td>4</td>\n",
              "      <td>ENSINO FUNDAMENTAL</td>\n",
              "      <td>5º ANO</td>\n",
              "      <td>B</td>\n",
              "      <td>TARDE</td>\n",
              "      <td>12052191</td>\n",
              "      <td>2</td>\n",
              "      <td>12</td>\n",
              "      <td>AP</td>\n",
              "      <td>APROVADO</td>\n",
              "    </tr>\n",
              "    <tr>\n",
              "      <th>96653</th>\n",
              "      <td>2018</td>\n",
              "      <td>133</td>\n",
              "      <td>27 DE NOVEMBRO</td>\n",
              "      <td>COHAB</td>\n",
              "      <td>DOZE DE JUNHO</td>\n",
              "      <td>1120</td>\n",
              "      <td>6</td>\n",
              "      <td>5º ANO</td>\n",
              "      <td>1</td>\n",
              "      <td>4</td>\n",
              "      <td>ENSINO FUNDAMENTAL</td>\n",
              "      <td>5º ANO</td>\n",
              "      <td>B</td>\n",
              "      <td>TARDE</td>\n",
              "      <td>17713455</td>\n",
              "      <td>1</td>\n",
              "      <td>12</td>\n",
              "      <td>AP</td>\n",
              "      <td>APROVADO</td>\n",
              "    </tr>\n",
              "    <tr>\n",
              "      <th>96654</th>\n",
              "      <td>2018</td>\n",
              "      <td>133</td>\n",
              "      <td>27 DE NOVEMBRO</td>\n",
              "      <td>COHAB</td>\n",
              "      <td>DOZE DE JUNHO</td>\n",
              "      <td>1120</td>\n",
              "      <td>6</td>\n",
              "      <td>5º ANO</td>\n",
              "      <td>1</td>\n",
              "      <td>4</td>\n",
              "      <td>ENSINO FUNDAMENTAL</td>\n",
              "      <td>5º ANO</td>\n",
              "      <td>B</td>\n",
              "      <td>TARDE</td>\n",
              "      <td>7066520</td>\n",
              "      <td>2</td>\n",
              "      <td>14</td>\n",
              "      <td>TA</td>\n",
              "      <td>TR DUR ANO P/REDE</td>\n",
              "    </tr>\n",
              "    <tr>\n",
              "      <th>96655</th>\n",
              "      <td>2018</td>\n",
              "      <td>133</td>\n",
              "      <td>27 DE NOVEMBRO</td>\n",
              "      <td>COHAB</td>\n",
              "      <td>DOZE DE JUNHO</td>\n",
              "      <td>1120</td>\n",
              "      <td>6</td>\n",
              "      <td>5º ANO</td>\n",
              "      <td>1</td>\n",
              "      <td>4</td>\n",
              "      <td>ENSINO FUNDAMENTAL</td>\n",
              "      <td>5º ANO</td>\n",
              "      <td>B</td>\n",
              "      <td>TARDE</td>\n",
              "      <td>16087313</td>\n",
              "      <td>1</td>\n",
              "      <td>11</td>\n",
              "      <td>AP</td>\n",
              "      <td>APROVADO</td>\n",
              "    </tr>\n",
              "    <tr>\n",
              "      <th>96656</th>\n",
              "      <td>2018</td>\n",
              "      <td>133</td>\n",
              "      <td>27 DE NOVEMBRO</td>\n",
              "      <td>COHAB</td>\n",
              "      <td>DOZE DE JUNHO</td>\n",
              "      <td>1120</td>\n",
              "      <td>6</td>\n",
              "      <td>5º ANO</td>\n",
              "      <td>1</td>\n",
              "      <td>4</td>\n",
              "      <td>ENSINO FUNDAMENTAL</td>\n",
              "      <td>5º ANO</td>\n",
              "      <td>B</td>\n",
              "      <td>TARDE</td>\n",
              "      <td>12094870</td>\n",
              "      <td>1</td>\n",
              "      <td>11</td>\n",
              "      <td>AP</td>\n",
              "      <td>APROVADO</td>\n",
              "    </tr>\n",
              "  </tbody>\n",
              "</table>\n",
              "<p>96657 rows × 19 columns</p>\n",
              "</div>\n",
              "    <div class=\"colab-df-buttons\">\n",
              "\n",
              "  <div class=\"colab-df-container\">\n",
              "    <button class=\"colab-df-convert\" onclick=\"convertToInteractive('df-261ec864-1d89-4147-8a10-438d0e4e9b51')\"\n",
              "            title=\"Convert this dataframe to an interactive table.\"\n",
              "            style=\"display:none;\">\n",
              "\n",
              "  <svg xmlns=\"http://www.w3.org/2000/svg\" height=\"24px\" viewBox=\"0 -960 960 960\">\n",
              "    <path d=\"M120-120v-720h720v720H120Zm60-500h600v-160H180v160Zm220 220h160v-160H400v160Zm0 220h160v-160H400v160ZM180-400h160v-160H180v160Zm440 0h160v-160H620v160ZM180-180h160v-160H180v160Zm440 0h160v-160H620v160Z\"/>\n",
              "  </svg>\n",
              "    </button>\n",
              "\n",
              "  <style>\n",
              "    .colab-df-container {\n",
              "      display:flex;\n",
              "      gap: 12px;\n",
              "    }\n",
              "\n",
              "    .colab-df-convert {\n",
              "      background-color: #E8F0FE;\n",
              "      border: none;\n",
              "      border-radius: 50%;\n",
              "      cursor: pointer;\n",
              "      display: none;\n",
              "      fill: #1967D2;\n",
              "      height: 32px;\n",
              "      padding: 0 0 0 0;\n",
              "      width: 32px;\n",
              "    }\n",
              "\n",
              "    .colab-df-convert:hover {\n",
              "      background-color: #E2EBFA;\n",
              "      box-shadow: 0px 1px 2px rgba(60, 64, 67, 0.3), 0px 1px 3px 1px rgba(60, 64, 67, 0.15);\n",
              "      fill: #174EA6;\n",
              "    }\n",
              "\n",
              "    .colab-df-buttons div {\n",
              "      margin-bottom: 4px;\n",
              "    }\n",
              "\n",
              "    [theme=dark] .colab-df-convert {\n",
              "      background-color: #3B4455;\n",
              "      fill: #D2E3FC;\n",
              "    }\n",
              "\n",
              "    [theme=dark] .colab-df-convert:hover {\n",
              "      background-color: #434B5C;\n",
              "      box-shadow: 0px 1px 3px 1px rgba(0, 0, 0, 0.15);\n",
              "      filter: drop-shadow(0px 1px 2px rgba(0, 0, 0, 0.3));\n",
              "      fill: #FFFFFF;\n",
              "    }\n",
              "  </style>\n",
              "\n",
              "    <script>\n",
              "      const buttonEl =\n",
              "        document.querySelector('#df-261ec864-1d89-4147-8a10-438d0e4e9b51 button.colab-df-convert');\n",
              "      buttonEl.style.display =\n",
              "        google.colab.kernel.accessAllowed ? 'block' : 'none';\n",
              "\n",
              "      async function convertToInteractive(key) {\n",
              "        const element = document.querySelector('#df-261ec864-1d89-4147-8a10-438d0e4e9b51');\n",
              "        const dataTable =\n",
              "          await google.colab.kernel.invokeFunction('convertToInteractive',\n",
              "                                                    [key], {});\n",
              "        if (!dataTable) return;\n",
              "\n",
              "        const docLinkHtml = 'Like what you see? Visit the ' +\n",
              "          '<a target=\"_blank\" href=https://colab.research.google.com/notebooks/data_table.ipynb>data table notebook</a>'\n",
              "          + ' to learn more about interactive tables.';\n",
              "        element.innerHTML = '';\n",
              "        dataTable['output_type'] = 'display_data';\n",
              "        await google.colab.output.renderOutput(dataTable, element);\n",
              "        const docLink = document.createElement('div');\n",
              "        docLink.innerHTML = docLinkHtml;\n",
              "        element.appendChild(docLink);\n",
              "      }\n",
              "    </script>\n",
              "  </div>\n",
              "\n",
              "\n",
              "<div id=\"df-1e873924-a967-4894-a69d-1b9cdfaa45d6\">\n",
              "  <button class=\"colab-df-quickchart\" onclick=\"quickchart('df-1e873924-a967-4894-a69d-1b9cdfaa45d6')\"\n",
              "            title=\"Suggest charts\"\n",
              "            style=\"display:none;\">\n",
              "\n",
              "<svg xmlns=\"http://www.w3.org/2000/svg\" height=\"24px\"viewBox=\"0 0 24 24\"\n",
              "     width=\"24px\">\n",
              "    <g>\n",
              "        <path d=\"M19 3H5c-1.1 0-2 .9-2 2v14c0 1.1.9 2 2 2h14c1.1 0 2-.9 2-2V5c0-1.1-.9-2-2-2zM9 17H7v-7h2v7zm4 0h-2V7h2v10zm4 0h-2v-4h2v4z\"/>\n",
              "    </g>\n",
              "</svg>\n",
              "  </button>\n",
              "\n",
              "<style>\n",
              "  .colab-df-quickchart {\n",
              "      --bg-color: #E8F0FE;\n",
              "      --fill-color: #1967D2;\n",
              "      --hover-bg-color: #E2EBFA;\n",
              "      --hover-fill-color: #174EA6;\n",
              "      --disabled-fill-color: #AAA;\n",
              "      --disabled-bg-color: #DDD;\n",
              "  }\n",
              "\n",
              "  [theme=dark] .colab-df-quickchart {\n",
              "      --bg-color: #3B4455;\n",
              "      --fill-color: #D2E3FC;\n",
              "      --hover-bg-color: #434B5C;\n",
              "      --hover-fill-color: #FFFFFF;\n",
              "      --disabled-bg-color: #3B4455;\n",
              "      --disabled-fill-color: #666;\n",
              "  }\n",
              "\n",
              "  .colab-df-quickchart {\n",
              "    background-color: var(--bg-color);\n",
              "    border: none;\n",
              "    border-radius: 50%;\n",
              "    cursor: pointer;\n",
              "    display: none;\n",
              "    fill: var(--fill-color);\n",
              "    height: 32px;\n",
              "    padding: 0;\n",
              "    width: 32px;\n",
              "  }\n",
              "\n",
              "  .colab-df-quickchart:hover {\n",
              "    background-color: var(--hover-bg-color);\n",
              "    box-shadow: 0 1px 2px rgba(60, 64, 67, 0.3), 0 1px 3px 1px rgba(60, 64, 67, 0.15);\n",
              "    fill: var(--button-hover-fill-color);\n",
              "  }\n",
              "\n",
              "  .colab-df-quickchart-complete:disabled,\n",
              "  .colab-df-quickchart-complete:disabled:hover {\n",
              "    background-color: var(--disabled-bg-color);\n",
              "    fill: var(--disabled-fill-color);\n",
              "    box-shadow: none;\n",
              "  }\n",
              "\n",
              "  .colab-df-spinner {\n",
              "    border: 2px solid var(--fill-color);\n",
              "    border-color: transparent;\n",
              "    border-bottom-color: var(--fill-color);\n",
              "    animation:\n",
              "      spin 1s steps(1) infinite;\n",
              "  }\n",
              "\n",
              "  @keyframes spin {\n",
              "    0% {\n",
              "      border-color: transparent;\n",
              "      border-bottom-color: var(--fill-color);\n",
              "      border-left-color: var(--fill-color);\n",
              "    }\n",
              "    20% {\n",
              "      border-color: transparent;\n",
              "      border-left-color: var(--fill-color);\n",
              "      border-top-color: var(--fill-color);\n",
              "    }\n",
              "    30% {\n",
              "      border-color: transparent;\n",
              "      border-left-color: var(--fill-color);\n",
              "      border-top-color: var(--fill-color);\n",
              "      border-right-color: var(--fill-color);\n",
              "    }\n",
              "    40% {\n",
              "      border-color: transparent;\n",
              "      border-right-color: var(--fill-color);\n",
              "      border-top-color: var(--fill-color);\n",
              "    }\n",
              "    60% {\n",
              "      border-color: transparent;\n",
              "      border-right-color: var(--fill-color);\n",
              "    }\n",
              "    80% {\n",
              "      border-color: transparent;\n",
              "      border-right-color: var(--fill-color);\n",
              "      border-bottom-color: var(--fill-color);\n",
              "    }\n",
              "    90% {\n",
              "      border-color: transparent;\n",
              "      border-bottom-color: var(--fill-color);\n",
              "    }\n",
              "  }\n",
              "</style>\n",
              "\n",
              "  <script>\n",
              "    async function quickchart(key) {\n",
              "      const quickchartButtonEl =\n",
              "        document.querySelector('#' + key + ' button');\n",
              "      quickchartButtonEl.disabled = true;  // To prevent multiple clicks.\n",
              "      quickchartButtonEl.classList.add('colab-df-spinner');\n",
              "      try {\n",
              "        const charts = await google.colab.kernel.invokeFunction(\n",
              "            'suggestCharts', [key], {});\n",
              "      } catch (error) {\n",
              "        console.error('Error during call to suggestCharts:', error);\n",
              "      }\n",
              "      quickchartButtonEl.classList.remove('colab-df-spinner');\n",
              "      quickchartButtonEl.classList.add('colab-df-quickchart-complete');\n",
              "    }\n",
              "    (() => {\n",
              "      let quickchartButtonEl =\n",
              "        document.querySelector('#df-1e873924-a967-4894-a69d-1b9cdfaa45d6 button');\n",
              "      quickchartButtonEl.style.display =\n",
              "        google.colab.kernel.accessAllowed ? 'block' : 'none';\n",
              "    })();\n",
              "  </script>\n",
              "</div>\n",
              "\n",
              "    </div>\n",
              "  </div>\n"
            ],
            "application/vnd.google.colaboratory.intrinsic+json": {
              "type": "dataframe",
              "variable_name": "dataSet",
              "summary": "{\n  \"name\": \"dataSet\",\n  \"rows\": 96658,\n  \"fields\": [\n    {\n      \"column\": \"ano\",\n      \"properties\": {\n        \"dtype\": \"number\",\n        \"std\": 0,\n        \"min\": 2018,\n        \"max\": 2018,\n        \"num_unique_values\": 1,\n        \"samples\": [\n          2018\n        ],\n        \"semantic_type\": \"\",\n        \"description\": \"\"\n      }\n    },\n    {\n      \"column\": \"codigo_escola\",\n      \"properties\": {\n        \"dtype\": \"number\",\n        \"std\": 281,\n        \"min\": 1,\n        \"max\": 999,\n        \"num_unique_values\": 331,\n        \"samples\": [\n          448\n        ],\n        \"semantic_type\": \"\",\n        \"description\": \"\"\n      }\n    },\n    {\n      \"column\": \"escola\",\n      \"properties\": {\n        \"dtype\": \"category\",\n        \"num_unique_values\": 331,\n        \"samples\": [\n          \"ARQUITETO ALEXANDRE MUNIZ DE OLIVEIRA\"\n        ],\n        \"semantic_type\": \"\",\n        \"description\": \"\"\n      }\n    },\n    {\n      \"column\": \"endereco_bairro\",\n      \"properties\": {\n        \"dtype\": \"category\",\n        \"num_unique_values\": 76,\n        \"samples\": [\n          \"COQUEIRAL\"\n        ],\n        \"semantic_type\": \"\",\n        \"description\": \"\"\n      }\n    },\n    {\n      \"column\": \"endereco_logradouro\",\n      \"properties\": {\n        \"dtype\": \"category\",\n        \"num_unique_values\": 291,\n        \"samples\": [\n          \"RITA ANTONIO FELIX\"\n        ],\n        \"semantic_type\": \"\",\n        \"description\": \"\"\n      }\n    },\n    {\n      \"column\": \"endereco_numero\",\n      \"properties\": {\n        \"dtype\": \"category\",\n        \"num_unique_values\": 195,\n        \"samples\": [\n          \"21\"\n        ],\n        \"semantic_type\": \"\",\n        \"description\": \"\"\n      }\n    },\n    {\n      \"column\": \"rpa\",\n      \"properties\": {\n        \"dtype\": \"number\",\n        \"std\": 1,\n        \"min\": 1,\n        \"max\": 6,\n        \"num_unique_values\": 6,\n        \"samples\": [\n          6\n        ],\n        \"semantic_type\": \"\",\n        \"description\": \"\"\n      }\n    },\n    {\n      \"column\": \"ano_ensino\",\n      \"properties\": {\n        \"dtype\": \"category\",\n        \"num_unique_values\": 23,\n        \"samples\": [\n          \"ACELERA\"\n        ],\n        \"semantic_type\": \"\",\n        \"description\": \"\"\n      }\n    },\n    {\n      \"column\": \"modalidade_ensino_codigo\",\n      \"properties\": {\n        \"dtype\": \"number\",\n        \"std\": 2,\n        \"min\": 0,\n        \"max\": 9,\n        \"num_unique_values\": 4,\n        \"samples\": [\n          1\n        ],\n        \"semantic_type\": \"\",\n        \"description\": \"\"\n      }\n    },\n    {\n      \"column\": \"serie_codigo\",\n      \"properties\": {\n        \"dtype\": \"category\",\n        \"num_unique_values\": 10,\n        \"samples\": [\n          \"7\"\n        ],\n        \"semantic_type\": \"\",\n        \"description\": \"\"\n      }\n    },\n    {\n      \"column\": \"modalidade_ensino\",\n      \"properties\": {\n        \"dtype\": \"category\",\n        \"num_unique_values\": 4,\n        \"samples\": [\n          \"ENSINO FUNDAMENTAL\"\n        ],\n        \"semantic_type\": \"\",\n        \"description\": \"\"\n      }\n    },\n    {\n      \"column\": \"serie\",\n      \"properties\": {\n        \"dtype\": \"category\",\n        \"num_unique_values\": 24,\n        \"samples\": [\n          \"BER\\u00c7\\u00c1RIO\"\n        ],\n        \"semantic_type\": \"\",\n        \"description\": \"\"\n      }\n    },\n    {\n      \"column\": \"turma\",\n      \"properties\": {\n        \"dtype\": \"category\",\n        \"num_unique_values\": 11,\n        \"samples\": [\n          \"E\"\n        ],\n        \"semantic_type\": \"\",\n        \"description\": \"\"\n      }\n    },\n    {\n      \"column\": \"turno\",\n      \"properties\": {\n        \"dtype\": \"category\",\n        \"num_unique_values\": 4,\n        \"samples\": [\n          \"TARDE\"\n        ],\n        \"semantic_type\": \"\",\n        \"description\": \"\"\n      }\n    },\n    {\n      \"column\": \"matricula\",\n      \"properties\": {\n        \"dtype\": \"number\",\n        \"std\": 6280771,\n        \"min\": 2283,\n        \"max\": 99937816,\n        \"num_unique_values\": 96656,\n        \"samples\": [\n          17107091\n        ],\n        \"semantic_type\": \"\",\n        \"description\": \"\"\n      }\n    },\n    {\n      \"column\": \"sexo\",\n      \"properties\": {\n        \"dtype\": \"number\",\n        \"std\": 0,\n        \"min\": 1,\n        \"max\": 2,\n        \"num_unique_values\": 2,\n        \"samples\": [\n          1\n        ],\n        \"semantic_type\": \"\",\n        \"description\": \"\"\n      }\n    },\n    {\n      \"column\": \"idade\",\n      \"properties\": {\n        \"dtype\": \"number\",\n        \"std\": 9,\n        \"min\": 0,\n        \"max\": 94,\n        \"num_unique_values\": 89,\n        \"samples\": [\n          4\n        ],\n        \"semantic_type\": \"\",\n        \"description\": \"\"\n      }\n    },\n    {\n      \"column\": \"situacao_codigo\",\n      \"properties\": {\n        \"dtype\": \"category\",\n        \"num_unique_values\": 20,\n        \"samples\": [\n          \"AP\"\n        ],\n        \"semantic_type\": \"\",\n        \"description\": \"\"\n      }\n    },\n    {\n      \"column\": \"situacao_nome\",\n      \"properties\": {\n        \"dtype\": \"category\",\n        \"num_unique_values\": 20,\n        \"samples\": [\n          \"APROVADO\"\n        ],\n        \"semantic_type\": \"\",\n        \"description\": \"\"\n      }\n    }\n  ]\n}"
            }
          },
          "metadata": {},
          "execution_count": 459
        }
      ]
    },
    {
      "cell_type": "code",
      "source": [
        "dataSet.isnull().sum()"
      ],
      "metadata": {
        "colab": {
          "base_uri": "https://localhost:8080/",
          "height": 680
        },
        "id": "dFqe0fErc4PO",
        "outputId": "d74b53b4-b937-46a5-a251-16f906e82632"
      },
      "execution_count": 460,
      "outputs": [
        {
          "output_type": "execute_result",
          "data": {
            "text/plain": [
              "ano                         0\n",
              "codigo_escola               0\n",
              "escola                      0\n",
              "endereco_bairro             0\n",
              "endereco_logradouro         0\n",
              "endereco_numero             0\n",
              "rpa                         0\n",
              "ano_ensino                  0\n",
              "modalidade_ensino_codigo    0\n",
              "serie_codigo                0\n",
              "modalidade_ensino           0\n",
              "serie                       0\n",
              "turma                       0\n",
              "turno                       0\n",
              "matricula                   0\n",
              "sexo                        0\n",
              "idade                       0\n",
              "situacao_codigo             0\n",
              "situacao_nome               0\n",
              "dtype: int64"
            ],
            "text/html": [
              "<div>\n",
              "<style scoped>\n",
              "    .dataframe tbody tr th:only-of-type {\n",
              "        vertical-align: middle;\n",
              "    }\n",
              "\n",
              "    .dataframe tbody tr th {\n",
              "        vertical-align: top;\n",
              "    }\n",
              "\n",
              "    .dataframe thead th {\n",
              "        text-align: right;\n",
              "    }\n",
              "</style>\n",
              "<table border=\"1\" class=\"dataframe\">\n",
              "  <thead>\n",
              "    <tr style=\"text-align: right;\">\n",
              "      <th></th>\n",
              "      <th>0</th>\n",
              "    </tr>\n",
              "  </thead>\n",
              "  <tbody>\n",
              "    <tr>\n",
              "      <th>ano</th>\n",
              "      <td>0</td>\n",
              "    </tr>\n",
              "    <tr>\n",
              "      <th>codigo_escola</th>\n",
              "      <td>0</td>\n",
              "    </tr>\n",
              "    <tr>\n",
              "      <th>escola</th>\n",
              "      <td>0</td>\n",
              "    </tr>\n",
              "    <tr>\n",
              "      <th>endereco_bairro</th>\n",
              "      <td>0</td>\n",
              "    </tr>\n",
              "    <tr>\n",
              "      <th>endereco_logradouro</th>\n",
              "      <td>0</td>\n",
              "    </tr>\n",
              "    <tr>\n",
              "      <th>endereco_numero</th>\n",
              "      <td>0</td>\n",
              "    </tr>\n",
              "    <tr>\n",
              "      <th>rpa</th>\n",
              "      <td>0</td>\n",
              "    </tr>\n",
              "    <tr>\n",
              "      <th>ano_ensino</th>\n",
              "      <td>0</td>\n",
              "    </tr>\n",
              "    <tr>\n",
              "      <th>modalidade_ensino_codigo</th>\n",
              "      <td>0</td>\n",
              "    </tr>\n",
              "    <tr>\n",
              "      <th>serie_codigo</th>\n",
              "      <td>0</td>\n",
              "    </tr>\n",
              "    <tr>\n",
              "      <th>modalidade_ensino</th>\n",
              "      <td>0</td>\n",
              "    </tr>\n",
              "    <tr>\n",
              "      <th>serie</th>\n",
              "      <td>0</td>\n",
              "    </tr>\n",
              "    <tr>\n",
              "      <th>turma</th>\n",
              "      <td>0</td>\n",
              "    </tr>\n",
              "    <tr>\n",
              "      <th>turno</th>\n",
              "      <td>0</td>\n",
              "    </tr>\n",
              "    <tr>\n",
              "      <th>matricula</th>\n",
              "      <td>0</td>\n",
              "    </tr>\n",
              "    <tr>\n",
              "      <th>sexo</th>\n",
              "      <td>0</td>\n",
              "    </tr>\n",
              "    <tr>\n",
              "      <th>idade</th>\n",
              "      <td>0</td>\n",
              "    </tr>\n",
              "    <tr>\n",
              "      <th>situacao_codigo</th>\n",
              "      <td>0</td>\n",
              "    </tr>\n",
              "    <tr>\n",
              "      <th>situacao_nome</th>\n",
              "      <td>0</td>\n",
              "    </tr>\n",
              "  </tbody>\n",
              "</table>\n",
              "</div><br><label><b>dtype:</b> int64</label>"
            ]
          },
          "metadata": {},
          "execution_count": 460
        }
      ]
    },
    {
      "cell_type": "markdown",
      "source": [
        "# ***DROP***"
      ],
      "metadata": {
        "id": "EGJmgQGUaAh4"
      }
    },
    {
      "cell_type": "code",
      "source": [
        "dataSet = dataSet.drop(columns=[\"serie\"])"
      ],
      "metadata": {
        "id": "aWaUa0FTaGO-"
      },
      "execution_count": 461,
      "outputs": []
    },
    {
      "cell_type": "markdown",
      "source": [
        "# **ALTER**"
      ],
      "metadata": {
        "id": "MlxUaBKXahAv"
      }
    },
    {
      "cell_type": "markdown",
      "source": [
        "### **Alterando os tipos**"
      ],
      "metadata": {
        "id": "dTtmyhdZdJP0"
      }
    },
    {
      "cell_type": "code",
      "source": [
        "dataSet.dtypes"
      ],
      "metadata": {
        "colab": {
          "base_uri": "https://localhost:8080/",
          "height": 648
        },
        "id": "1jB2IVUgPzms",
        "outputId": "dcf52800-cbe8-4f97-ef8f-51c0c0a8ec67"
      },
      "execution_count": 462,
      "outputs": [
        {
          "output_type": "execute_result",
          "data": {
            "text/plain": [
              "ano                          int64\n",
              "codigo_escola                int64\n",
              "escola                      object\n",
              "endereco_bairro             object\n",
              "endereco_logradouro         object\n",
              "endereco_numero             object\n",
              "rpa                          int64\n",
              "ano_ensino                  object\n",
              "modalidade_ensino_codigo     int64\n",
              "serie_codigo                object\n",
              "modalidade_ensino           object\n",
              "turma                       object\n",
              "turno                       object\n",
              "matricula                    int64\n",
              "sexo                         int64\n",
              "idade                        int64\n",
              "situacao_codigo             object\n",
              "situacao_nome               object\n",
              "dtype: object"
            ],
            "text/html": [
              "<div>\n",
              "<style scoped>\n",
              "    .dataframe tbody tr th:only-of-type {\n",
              "        vertical-align: middle;\n",
              "    }\n",
              "\n",
              "    .dataframe tbody tr th {\n",
              "        vertical-align: top;\n",
              "    }\n",
              "\n",
              "    .dataframe thead th {\n",
              "        text-align: right;\n",
              "    }\n",
              "</style>\n",
              "<table border=\"1\" class=\"dataframe\">\n",
              "  <thead>\n",
              "    <tr style=\"text-align: right;\">\n",
              "      <th></th>\n",
              "      <th>0</th>\n",
              "    </tr>\n",
              "  </thead>\n",
              "  <tbody>\n",
              "    <tr>\n",
              "      <th>ano</th>\n",
              "      <td>int64</td>\n",
              "    </tr>\n",
              "    <tr>\n",
              "      <th>codigo_escola</th>\n",
              "      <td>int64</td>\n",
              "    </tr>\n",
              "    <tr>\n",
              "      <th>escola</th>\n",
              "      <td>object</td>\n",
              "    </tr>\n",
              "    <tr>\n",
              "      <th>endereco_bairro</th>\n",
              "      <td>object</td>\n",
              "    </tr>\n",
              "    <tr>\n",
              "      <th>endereco_logradouro</th>\n",
              "      <td>object</td>\n",
              "    </tr>\n",
              "    <tr>\n",
              "      <th>endereco_numero</th>\n",
              "      <td>object</td>\n",
              "    </tr>\n",
              "    <tr>\n",
              "      <th>rpa</th>\n",
              "      <td>int64</td>\n",
              "    </tr>\n",
              "    <tr>\n",
              "      <th>ano_ensino</th>\n",
              "      <td>object</td>\n",
              "    </tr>\n",
              "    <tr>\n",
              "      <th>modalidade_ensino_codigo</th>\n",
              "      <td>int64</td>\n",
              "    </tr>\n",
              "    <tr>\n",
              "      <th>serie_codigo</th>\n",
              "      <td>object</td>\n",
              "    </tr>\n",
              "    <tr>\n",
              "      <th>modalidade_ensino</th>\n",
              "      <td>object</td>\n",
              "    </tr>\n",
              "    <tr>\n",
              "      <th>turma</th>\n",
              "      <td>object</td>\n",
              "    </tr>\n",
              "    <tr>\n",
              "      <th>turno</th>\n",
              "      <td>object</td>\n",
              "    </tr>\n",
              "    <tr>\n",
              "      <th>matricula</th>\n",
              "      <td>int64</td>\n",
              "    </tr>\n",
              "    <tr>\n",
              "      <th>sexo</th>\n",
              "      <td>int64</td>\n",
              "    </tr>\n",
              "    <tr>\n",
              "      <th>idade</th>\n",
              "      <td>int64</td>\n",
              "    </tr>\n",
              "    <tr>\n",
              "      <th>situacao_codigo</th>\n",
              "      <td>object</td>\n",
              "    </tr>\n",
              "    <tr>\n",
              "      <th>situacao_nome</th>\n",
              "      <td>object</td>\n",
              "    </tr>\n",
              "  </tbody>\n",
              "</table>\n",
              "</div><br><label><b>dtype:</b> object</label>"
            ]
          },
          "metadata": {},
          "execution_count": 462
        }
      ]
    },
    {
      "cell_type": "code",
      "source": [
        "dataSet[\"ano\"] = dataSet[\"ano\"].astype(str)\n",
        "dataSet[\"codigo_escola\"] = pd.to_numeric(dataSet[\"codigo_escola\"])\n",
        "dataSet[\"escola\"] = dataSet[\"escola\"].astype(str)\n",
        "dataSet[\"endereco_bairro\"] = dataSet[\"endereco_bairro\"].astype(str)\n",
        "dataSet[\"endereco_logradouro\"] = dataSet[\"endereco_logradouro\"].astype(str)\n",
        "dataSet[\"endereco_numero\"] = dataSet[\"endereco_numero\"].astype(str)\n",
        "dataSet[\"rpa\"] = dataSet[\"rpa\"].astype(str)\n",
        "dataSet[\"ano_ensino\"] = dataSet[\"ano_ensino\"].astype(str)\n",
        "dataSet[\"modalidade_ensino_codigo\"] = pd.to_numeric(dataSet[\"modalidade_ensino_codigo\"])\n",
        "dataSet[\"serie_codigo\"] = pd.to_numeric(dataSet[\"serie_codigo\"], errors='coerce')\n",
        "dataSet[\"modalidade_ensino\"] = dataSet[\"modalidade_ensino\"].astype(str)\n",
        "dataSet[\"turma\"] = dataSet[\"turma\"].astype(str)\n",
        "dataSet[\"turno\"] = dataSet[\"turno\"].astype(str)\n",
        "dataSet[\"matricula\"] = pd.to_numeric(dataSet[\"matricula\"])\n",
        "dataSet[\"sexo\"] = dataSet[\"sexo\"].astype(str)\n",
        "dataSet[\"situacao_codigo\"] = dataSet[\"situacao_codigo\"].astype(str)\n",
        "dataSet[\"situacao_nome\"] = dataSet[\"situacao_nome\"].astype(str)"
      ],
      "metadata": {
        "id": "ChrRHuWrX-qQ"
      },
      "execution_count": 463,
      "outputs": []
    },
    {
      "cell_type": "markdown",
      "source": [
        "### **Alterando valores**"
      ],
      "metadata": {
        "id": "G30SPOC-dPUA"
      }
    },
    {
      "cell_type": "markdown",
      "source": [
        "alterando valor de sexo"
      ],
      "metadata": {
        "id": "ewF2OBiPg2Vc"
      }
    },
    {
      "cell_type": "code",
      "source": [
        "dataSet['sexo'].unique()"
      ],
      "metadata": {
        "colab": {
          "base_uri": "https://localhost:8080/"
        },
        "id": "7VADcl6LdIPF",
        "outputId": "3c45d731-9830-4ac3-a665-01c1793a91f3"
      },
      "execution_count": 464,
      "outputs": [
        {
          "output_type": "execute_result",
          "data": {
            "text/plain": [
              "array(['2', '1'], dtype=object)"
            ]
          },
          "metadata": {},
          "execution_count": 464
        }
      ]
    },
    {
      "cell_type": "code",
      "source": [
        "dataSet.loc[dataSet['sexo'] == \"3\", 'sexo'] = \"2\"\n",
        "dataSet.loc[dataSet['sexo'] == \"1\", 'sexo'] = \"Masculino\"\n",
        "dataSet.loc[dataSet['sexo'] == \"2\", 'sexo'] = \"Feminino\""
      ],
      "metadata": {
        "id": "epjcyGWwgQ2K"
      },
      "execution_count": 465,
      "outputs": []
    },
    {
      "cell_type": "markdown",
      "source": [
        "Alterando valor de modalidade_ensino\n"
      ],
      "metadata": {
        "id": "t2w5zjq4hIJh"
      }
    },
    {
      "cell_type": "code",
      "source": [
        "dataSet['modalidade_ensino'].unique()"
      ],
      "metadata": {
        "colab": {
          "base_uri": "https://localhost:8080/"
        },
        "id": "q9GHToxqhQ2I",
        "outputId": "a54944d2-7f22-48fa-831c-0d3698bb4cae"
      },
      "execution_count": 466,
      "outputs": [
        {
          "output_type": "execute_result",
          "data": {
            "text/plain": [
              "array(['EDUCACAO INFANTIL', 'ENSINO FUNDAMENTAL',\n",
              "       'EDUCACAO  JOVENS E ADULTOS', 'CORREÇÃO DE FLUXO'], dtype=object)"
            ]
          },
          "metadata": {},
          "execution_count": 466
        }
      ]
    },
    {
      "cell_type": "code",
      "source": [
        "dataSet.loc[dataSet['modalidade_ensino'] == \"EDUCACAO JOVENS E ADULTOS\", 'modalidade_ensino'] = \"EDUCACAO JOVENS E ADULTOS\"\n",
        "\n",
        "dataSet.loc[dataSet['modalidade_ensino'] == \"EDUCACAO  JOVENS E ADULTOS\", 'modalidade_ensino'] = \"EDUCACAO JOVENS E ADULTOS\"\n",
        "\n",
        "dataSet.loc[dataSet['modalidade_ensino'] == \"PROJOVEM\", 'modalidade_ensino'] = \"EDUCACAO JOVENS E ADULTOS\""
      ],
      "metadata": {
        "id": "5AJfUg4_hdXo"
      },
      "execution_count": 467,
      "outputs": []
    },
    {
      "cell_type": "markdown",
      "source": [
        "Alterando endereco_numero"
      ],
      "metadata": {
        "id": "UfYlvS-ciPGB"
      }
    },
    {
      "cell_type": "code",
      "source": [
        "dataSet['endereco_numero'].unique()"
      ],
      "metadata": {
        "colab": {
          "base_uri": "https://localhost:8080/"
        },
        "id": "JvMkWiVSiR-W",
        "outputId": "29633efc-a2ac-41c5-f20d-99608a60c94e"
      },
      "execution_count": 468,
      "outputs": [
        {
          "output_type": "execute_result",
          "data": {
            "text/plain": [
              "array(['S/N', '653', '685', '180', '338', '369', '356', '1265', '255',\n",
              "       '250', '300', 'SN', '53', '813', '198', '134', '1470', '37', '120',\n",
              "       '1340', '290', '55', '82', '303', '80', '100', '453', '28', '84',\n",
              "       '1595', '189', '131', '112', '111', '310', '450', '375', '1441',\n",
              "       '5449', '48', '284', '10', '415', '633', '395', '19', '244', '479',\n",
              "       '68', '1555', '215', '500', '25', '287', '83', '165', '568', '105',\n",
              "       '49', '30', '7696', '127', '117', '35', '115', '175', '240', '427',\n",
              "       '600', '320', '1138', '591', '91', '110', '925', '360', '222',\n",
              "       '69', '211', '227', '655', '36', '85', '301', '304', '12', '13',\n",
              "       '1406', '135', '437', '686', '440', '1864', '419', '498', '09',\n",
              "       '273', '283', '1107', '51', '3895', '107', '350', '52', '125',\n",
              "       '1316', '468', '700', '204', '42', '54', '508', '269', '176',\n",
              "       '147', '157', '60', '1307', '318', '677', '182', '1030', '07',\n",
              "       '900', '2173', '669', '109', '720', '56', '169', '24', '417',\n",
              "       '1045', '511', '236', '141', '1040', '172', '21', '145', '27',\n",
              "       '200', '216', '118', '43', '279', '594', '461', '377', '950',\n",
              "       '545', '7636', '1848', '386', '168', '170', '399', '41', '541',\n",
              "       '31', '660', '5785', '368', '225', '4900', '104', '2191', '160',\n",
              "       '122', '2526', '140', '33', '470', '5400', '70', '570', '16',\n",
              "       '364', '164', '50', '1800', '20', '248', '390', '123', '86', '218',\n",
              "       '126A', '14', '1530', '65', '116', '73', '1536', '1120'],\n",
              "      dtype=object)"
            ]
          },
          "metadata": {},
          "execution_count": 468
        }
      ]
    },
    {
      "cell_type": "code",
      "source": [
        "dataSet.loc[dataSet['endereco_numero'] == \"S/N\", 'endereco_numero'] = \"SN\""
      ],
      "metadata": {
        "id": "NEdrPWa3iZcR"
      },
      "execution_count": 469,
      "outputs": []
    },
    {
      "cell_type": "markdown",
      "source": [
        "Alterando RPA (Região Político Administrativa)"
      ],
      "metadata": {
        "id": "CtuDyFH1jrAP"
      }
    },
    {
      "cell_type": "code",
      "source": [
        "dataSet['rpa'].unique()"
      ],
      "metadata": {
        "colab": {
          "base_uri": "https://localhost:8080/"
        },
        "id": "Sgm4xr2XkEcs",
        "outputId": "fde703e2-af85-43de-df30-b84c5f6864de"
      },
      "execution_count": 470,
      "outputs": [
        {
          "output_type": "execute_result",
          "data": {
            "text/plain": [
              "array(['6', '4', '2', '1', '5', '3'], dtype=object)"
            ]
          },
          "metadata": {},
          "execution_count": 470
        }
      ]
    },
    {
      "cell_type": "code",
      "source": [
        "dataSet.loc[dataSet['rpa'] == \"1\", 'rpa'] = \"CENTRO\"\n",
        "dataSet.loc[dataSet['rpa'] == \"2\", 'rpa'] = \"NORTE\"\n",
        "dataSet.loc[dataSet['rpa'] == \"3\", 'rpa'] = \"NOROESTE\"\n",
        "dataSet.loc[dataSet['rpa'] == \"4\", 'rpa'] = \"OESTE\"\n",
        "dataSet.loc[dataSet['rpa'] == \"5\", 'rpa'] = \"SUDOESTE\"\n",
        "dataSet.loc[dataSet['rpa'] == \"6\", 'rpa'] = \"SUL\""
      ],
      "metadata": {
        "id": "iLQQfexEjxhu"
      },
      "execution_count": 471,
      "outputs": []
    },
    {
      "cell_type": "markdown",
      "source": [
        "# **SAVE**"
      ],
      "metadata": {
        "id": "vTE1RkQ3lSWk"
      }
    },
    {
      "cell_type": "code",
      "source": [
        "# files.download('/content/situacaofinal2018.csv')"
      ],
      "metadata": {
        "colab": {
          "base_uri": "https://localhost:8080/",
          "height": 17
        },
        "id": "RvqNIKn7lbno",
        "outputId": "99ce04cf-7435-472f-be1b-285ddf2a072c"
      },
      "execution_count": 472,
      "outputs": [
        {
          "output_type": "display_data",
          "data": {
            "text/plain": [
              "<IPython.core.display.Javascript object>"
            ],
            "application/javascript": [
              "\n",
              "    async function download(id, filename, size) {\n",
              "      if (!google.colab.kernel.accessAllowed) {\n",
              "        return;\n",
              "      }\n",
              "      const div = document.createElement('div');\n",
              "      const label = document.createElement('label');\n",
              "      label.textContent = `Downloading \"${filename}\": `;\n",
              "      div.appendChild(label);\n",
              "      const progress = document.createElement('progress');\n",
              "      progress.max = size;\n",
              "      div.appendChild(progress);\n",
              "      document.body.appendChild(div);\n",
              "\n",
              "      const buffers = [];\n",
              "      let downloaded = 0;\n",
              "\n",
              "      const channel = await google.colab.kernel.comms.open(id);\n",
              "      // Send a message to notify the kernel that we're ready.\n",
              "      channel.send({})\n",
              "\n",
              "      for await (const message of channel.messages) {\n",
              "        // Send a message to notify the kernel that we're ready.\n",
              "        channel.send({})\n",
              "        if (message.buffers) {\n",
              "          for (const buffer of message.buffers) {\n",
              "            buffers.push(buffer);\n",
              "            downloaded += buffer.byteLength;\n",
              "            progress.value = downloaded;\n",
              "          }\n",
              "        }\n",
              "      }\n",
              "      const blob = new Blob(buffers, {type: 'application/binary'});\n",
              "      const a = document.createElement('a');\n",
              "      a.href = window.URL.createObjectURL(blob);\n",
              "      a.download = filename;\n",
              "      div.appendChild(a);\n",
              "      a.click();\n",
              "      div.remove();\n",
              "    }\n",
              "  "
            ]
          },
          "metadata": {}
        },
        {
          "output_type": "display_data",
          "data": {
            "text/plain": [
              "<IPython.core.display.Javascript object>"
            ],
            "application/javascript": [
              "download(\"download_3c7c89b2-a533-431e-9d91-1e89910a1efd\", \"situacaofinal2018.csv\", 13495676)"
            ]
          },
          "metadata": {}
        }
      ]
    }
  ]
}